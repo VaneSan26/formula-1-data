{
  "cells": [
    {
      "cell_type": "markdown",
      "source": [
        "\n",
        "Importamos librerias \n",
        "\n",
        "---\n",
        "\n"
      ],
      "metadata": {
        "id": "m4Vwwfn2-mNQ"
      },
      "id": "m4Vwwfn2-mNQ"
    },
    {
      "cell_type": "code",
      "execution_count": null,
      "id": "9d1fb6d9",
      "metadata": {
        "id": "9d1fb6d9"
      },
      "outputs": [],
      "source": [
        "import pandas as pd\n",
        "import json\n",
        "import requests"
      ]
    },
    {
      "cell_type": "markdown",
      "id": "693d6980",
      "metadata": {
        "id": "693d6980"
      },
      "source": [
        "# Tablas"
      ]
    },
    {
      "cell_type": "markdown",
      "id": "4ca001b4",
      "metadata": {
        "id": "4ca001b4"
      },
      "source": [
        "### Races"
      ]
    },
    {
      "cell_type": "code",
      "execution_count": null,
      "id": "b443f49e",
      "metadata": {
        "id": "b443f49e"
      },
      "outputs": [],
      "source": [
        "races={'year':[],'round':[],'raceName':[],'circuitId':[],'lat':[],'long':[],'country':[],'date':[],'url':[]}\n",
        "#hacemos diccionario para despues almacenar lo extraido de la api\n",
        "for year in list(range(2010,2023)): #hacemos ciclo porque la url/link cambia en el año\n",
        "    url='http://ergast.com/api/f1/{}.json?limit=1000'\n",
        "    response = requests.get(url.format(year)) #llamamos a la pagina \n",
        "    content=json.loads(response.content) #respuesta de la pagina\n",
        "    for item in content['MRData']['RaceTable']['Races']:# extraemos info\n",
        "        races['year'].append(int(item['season']))\n",
        "        races['round'].append(int(item['round']))\n",
        "        races['raceName'].append(item['raceName'])\n",
        "        races['circuitId'].append(item['Circuit']['circuitId'])\n",
        "        races['lat'].append(float(item['Circuit']['Location']['lat']))\n",
        "        races['long'].append(float(item['Circuit']['Location']['long']))\n",
        "        races['country'].append(item['Circuit']['Location']['country'])\n",
        "        races['date'].append(item['date'])\n",
        "        races['url'].append(item['url'])\n",
        "df_races=pd.DataFrame(races)#hacemos Dataframe\n",
        "df_races['date'] = df_races['date'].astype('datetime64[ns]')# cambiamos de tipo la columna de la fecha\n",
        "df_races.to_csv('races.csv',index=False)"
      ]
    },
    {
      "cell_type": "markdown",
      "id": "39165af6",
      "metadata": {
        "id": "39165af6"
      },
      "source": [
        "### Seasons"
      ]
    },
    {
      "cell_type": "code",
      "execution_count": null,
      "id": "688ba190",
      "metadata": {
        "id": "688ba190"
      },
      "outputs": [],
      "source": [
        "url='http://ergast.com/api/f1/seasons.json?limit=1000'# utilizamos el ?limit=1000 para que no tengamos restricciones, sino solo nos daria los primeros 30\n",
        "response = requests.get(url)\n",
        "content=json.loads(response.content)\n",
        "season ={'year':[],'url':[]}\n",
        "#hacemos diccionario para despues almacenar lo extraido de la api\n",
        "for item in content['MRData']['SeasonTable']['Seasons']:#extraemos la info\n",
        "    season['year'].append(int(item['season']))\n",
        "    season['url'].append(item['url'])\n",
        "df_Season=pd.DataFrame(season)# hacemos Data Frame\n",
        "df_Season.to_csv('seasons.csv',index=False)#Lo hacemos csv"
      ]
    },
    {
      "cell_type": "markdown",
      "id": "069c4f3f",
      "metadata": {
        "id": "069c4f3f"
      },
      "source": [
        "### Drivers"
      ]
    },
    {
      "cell_type": "code",
      "execution_count": null,
      "id": "ad383cf5",
      "metadata": {
        "id": "ad383cf5",
        "outputId": "734464a4-9843-4204-f34b-b8ae5c81cad4"
      },
      "outputs": [
        {
          "data": {
            "text/html": [
              "<div>\n",
              "<style scoped>\n",
              "    .dataframe tbody tr th:only-of-type {\n",
              "        vertical-align: middle;\n",
              "    }\n",
              "\n",
              "    .dataframe tbody tr th {\n",
              "        vertical-align: top;\n",
              "    }\n",
              "\n",
              "    .dataframe thead th {\n",
              "        text-align: right;\n",
              "    }\n",
              "</style>\n",
              "<table border=\"1\" class=\"dataframe\">\n",
              "  <thead>\n",
              "    <tr style=\"text-align: right;\">\n",
              "      <th></th>\n",
              "      <th>year</th>\n",
              "      <th>DriverId</th>\n",
              "      <th>Number</th>\n",
              "      <th>code</th>\n",
              "      <th>forename</th>\n",
              "      <th>surname</th>\n",
              "      <th>dob</th>\n",
              "      <th>nationality</th>\n",
              "      <th>url</th>\n",
              "    </tr>\n",
              "  </thead>\n",
              "  <tbody>\n",
              "    <tr>\n",
              "      <th>0</th>\n",
              "      <td>2010</td>\n",
              "      <td>alguersuari</td>\n",
              "      <td></td>\n",
              "      <td>ALG</td>\n",
              "      <td>Jaime</td>\n",
              "      <td>Alguersuari</td>\n",
              "      <td>1990-03-23</td>\n",
              "      <td>Spanish</td>\n",
              "      <td>http://en.wikipedia.org/wiki/Jaime_Alguersuari</td>\n",
              "    </tr>\n",
              "    <tr>\n",
              "      <th>1</th>\n",
              "      <td>2010</td>\n",
              "      <td>alonso</td>\n",
              "      <td>14</td>\n",
              "      <td>ALO</td>\n",
              "      <td>Fernando</td>\n",
              "      <td>Alonso</td>\n",
              "      <td>1981-07-29</td>\n",
              "      <td>Spanish</td>\n",
              "      <td>http://en.wikipedia.org/wiki/Fernando_Alonso</td>\n",
              "    </tr>\n",
              "    <tr>\n",
              "      <th>2</th>\n",
              "      <td>2010</td>\n",
              "      <td>barrichello</td>\n",
              "      <td></td>\n",
              "      <td>BAR</td>\n",
              "      <td>Rubens</td>\n",
              "      <td>Barrichello</td>\n",
              "      <td>1972-05-23</td>\n",
              "      <td>Brazilian</td>\n",
              "      <td>http://en.wikipedia.org/wiki/Rubens_Barrichello</td>\n",
              "    </tr>\n",
              "    <tr>\n",
              "      <th>3</th>\n",
              "      <td>2010</td>\n",
              "      <td>buemi</td>\n",
              "      <td></td>\n",
              "      <td>BUE</td>\n",
              "      <td>Sébastien</td>\n",
              "      <td>Buemi</td>\n",
              "      <td>1988-10-31</td>\n",
              "      <td>Swiss</td>\n",
              "      <td>http://en.wikipedia.org/wiki/S%C3%A9bastien_Buemi</td>\n",
              "    </tr>\n",
              "    <tr>\n",
              "      <th>4</th>\n",
              "      <td>2010</td>\n",
              "      <td>button</td>\n",
              "      <td>22</td>\n",
              "      <td>BUT</td>\n",
              "      <td>Jenson</td>\n",
              "      <td>Button</td>\n",
              "      <td>1980-01-19</td>\n",
              "      <td>British</td>\n",
              "      <td>http://en.wikipedia.org/wiki/Jenson_Button</td>\n",
              "    </tr>\n",
              "    <tr>\n",
              "      <th>...</th>\n",
              "      <td>...</td>\n",
              "      <td>...</td>\n",
              "      <td>...</td>\n",
              "      <td>...</td>\n",
              "      <td>...</td>\n",
              "      <td>...</td>\n",
              "      <td>...</td>\n",
              "      <td>...</td>\n",
              "      <td>...</td>\n",
              "    </tr>\n",
              "    <tr>\n",
              "      <th>299</th>\n",
              "      <td>2022</td>\n",
              "      <td>stroll</td>\n",
              "      <td>18</td>\n",
              "      <td>STR</td>\n",
              "      <td>Lance</td>\n",
              "      <td>Stroll</td>\n",
              "      <td>1998-10-29</td>\n",
              "      <td>Canadian</td>\n",
              "      <td>http://en.wikipedia.org/wiki/Lance_Stroll</td>\n",
              "    </tr>\n",
              "    <tr>\n",
              "      <th>300</th>\n",
              "      <td>2022</td>\n",
              "      <td>tsunoda</td>\n",
              "      <td>22</td>\n",
              "      <td>TSU</td>\n",
              "      <td>Yuki</td>\n",
              "      <td>Tsunoda</td>\n",
              "      <td>2000-05-11</td>\n",
              "      <td>Japanese</td>\n",
              "      <td>http://en.wikipedia.org/wiki/Yuki_Tsunoda</td>\n",
              "    </tr>\n",
              "    <tr>\n",
              "      <th>301</th>\n",
              "      <td>2022</td>\n",
              "      <td>max_verstappen</td>\n",
              "      <td>33</td>\n",
              "      <td>VER</td>\n",
              "      <td>Max</td>\n",
              "      <td>Verstappen</td>\n",
              "      <td>1997-09-30</td>\n",
              "      <td>Dutch</td>\n",
              "      <td>http://en.wikipedia.org/wiki/Max_Verstappen</td>\n",
              "    </tr>\n",
              "    <tr>\n",
              "      <th>302</th>\n",
              "      <td>2022</td>\n",
              "      <td>vettel</td>\n",
              "      <td>5</td>\n",
              "      <td>VET</td>\n",
              "      <td>Sebastian</td>\n",
              "      <td>Vettel</td>\n",
              "      <td>1987-07-03</td>\n",
              "      <td>German</td>\n",
              "      <td>http://en.wikipedia.org/wiki/Sebastian_Vettel</td>\n",
              "    </tr>\n",
              "    <tr>\n",
              "      <th>303</th>\n",
              "      <td>2022</td>\n",
              "      <td>zhou</td>\n",
              "      <td>24</td>\n",
              "      <td>ZHO</td>\n",
              "      <td>Guanyu</td>\n",
              "      <td>Zhou</td>\n",
              "      <td>1999-05-30</td>\n",
              "      <td>Chinese</td>\n",
              "      <td>http://en.wikipedia.org/wiki/Guanyu_Zhou</td>\n",
              "    </tr>\n",
              "  </tbody>\n",
              "</table>\n",
              "<p>304 rows × 9 columns</p>\n",
              "</div>"
            ],
            "text/plain": [
              "     year        DriverId Number code   forename      surname        dob  \\\n",
              "0    2010     alguersuari         ALG      Jaime  Alguersuari 1990-03-23   \n",
              "1    2010          alonso     14  ALO   Fernando       Alonso 1981-07-29   \n",
              "2    2010     barrichello         BAR     Rubens  Barrichello 1972-05-23   \n",
              "3    2010           buemi         BUE  Sébastien        Buemi 1988-10-31   \n",
              "4    2010          button     22  BUT     Jenson       Button 1980-01-19   \n",
              "..    ...             ...    ...  ...        ...          ...        ...   \n",
              "299  2022          stroll     18  STR      Lance       Stroll 1998-10-29   \n",
              "300  2022         tsunoda     22  TSU       Yuki      Tsunoda 2000-05-11   \n",
              "301  2022  max_verstappen     33  VER        Max   Verstappen 1997-09-30   \n",
              "302  2022          vettel      5  VET  Sebastian       Vettel 1987-07-03   \n",
              "303  2022            zhou     24  ZHO     Guanyu         Zhou 1999-05-30   \n",
              "\n",
              "    nationality                                                url  \n",
              "0       Spanish     http://en.wikipedia.org/wiki/Jaime_Alguersuari  \n",
              "1       Spanish       http://en.wikipedia.org/wiki/Fernando_Alonso  \n",
              "2     Brazilian    http://en.wikipedia.org/wiki/Rubens_Barrichello  \n",
              "3         Swiss  http://en.wikipedia.org/wiki/S%C3%A9bastien_Buemi  \n",
              "4       British         http://en.wikipedia.org/wiki/Jenson_Button  \n",
              "..          ...                                                ...  \n",
              "299    Canadian          http://en.wikipedia.org/wiki/Lance_Stroll  \n",
              "300    Japanese          http://en.wikipedia.org/wiki/Yuki_Tsunoda  \n",
              "301       Dutch        http://en.wikipedia.org/wiki/Max_Verstappen  \n",
              "302      German      http://en.wikipedia.org/wiki/Sebastian_Vettel  \n",
              "303     Chinese           http://en.wikipedia.org/wiki/Guanyu_Zhou  \n",
              "\n",
              "[304 rows x 9 columns]"
            ]
          },
          "execution_count": 4,
          "metadata": {},
          "output_type": "execute_result"
        }
      ],
      "source": [
        "drivers={'year':[],\"DriverId\":[],\"Number\":[],\"code\":[],\"forename\":[],\"surname\":[],\"dob\":[],\"nationality\":[],\"url\":[]}\n",
        "#hacemos diccionario para despues almacenar lo extraido de la api\n",
        "for year in list(range(2010,2023)):# hacemos ciclo porque en la url/link cambia años\n",
        "    url='http://ergast.com/api/f1/{}/drivers.json?limit=1000'\n",
        "    response = requests.get(url.format(year))\n",
        "    content=json.loads(response.content)\n",
        "    for i in range(0,len(content['MRData']['DriverTable'][\"Drivers\"])):#traemos la info\n",
        "            drivers[\"year\"].append(int(content['MRData']['DriverTable']['season']))\n",
        "            try:\n",
        "                drivers[\"Number\"].append(int(content['MRData']['DriverTable']['Drivers'][i][\"permanentNumber\"]))\n",
        "            except:\n",
        "                drivers[\"Number\"].append(\"\")\n",
        "            drivers[\"DriverId\"].append(content['MRData']['DriverTable']['Drivers'][i][\"driverId\"])\n",
        "            try:\n",
        "                drivers[\"code\"].append(content['MRData']['DriverTable']['Drivers'][i][\"code\"])\n",
        "            except:\n",
        "                drivers[\"code\"].append(\"\")\n",
        "            drivers[\"forename\"].append(content['MRData']['DriverTable']['Drivers'][i][\"givenName\"])\n",
        "            drivers[\"surname\"].append(content['MRData']['DriverTable']['Drivers'][i][\"familyName\"])                       \n",
        "            drivers[\"dob\"].append(content['MRData']['DriverTable']['Drivers'][i][\"dateOfBirth\"])                        \n",
        "            drivers[\"nationality\"].append(content['MRData']['DriverTable']['Drivers'][i][\"nationality\"])\n",
        "            drivers[\"url\"].append(content['MRData']['DriverTable']['Drivers'][i][\"url\"]) \n",
        "df_drivers=pd.DataFrame(drivers)# hacemos Data Frame\n",
        "df_drivers['dob'] = df_drivers['dob'].astype('datetime64[ns]') \n",
        "#df_drivers.to_csv('drivers.csv',index=False)#Lo hacemos csv\n",
        "df_drivers"
      ]
    },
    {
      "cell_type": "markdown",
      "id": "bc2a1480",
      "metadata": {
        "id": "bc2a1480"
      },
      "source": [
        "### Constructors"
      ]
    },
    {
      "cell_type": "code",
      "execution_count": null,
      "id": "74aa161e",
      "metadata": {
        "id": "74aa161e"
      },
      "outputs": [],
      "source": [
        "constructors={\"year\":[],\"constuctorId\":[],\"name\":[],\"nationality\":[],\"url\":[],}\n",
        "#hacemos diccionario para despues almacenar lo extraido de la api\n",
        "for year in list(range(2010,2023)):#hacemos un for para extraer la info del año/temporada\n",
        "    url='http://ergast.com/api/f1/{}/constructors.json?limit=1000'\n",
        "    response = requests.get(url.format(year))\n",
        "    content=json.loads(response.content)\n",
        "    #hacemos ciclo para extraer info\n",
        "    for item in range(0,len(content['MRData']['ConstructorTable']['Constructors'])):\n",
        "        constructors[\"year\"].append(int(content['MRData']['ConstructorTable']['season']))\n",
        "        constructors[\"constuctorId\"].append(content['MRData']['ConstructorTable']['Constructors'][item]['constructorId'])\n",
        "        constructors['name'].append(content['MRData']['ConstructorTable']['Constructors'][item]['name'])\n",
        "        constructors['nationality'].append(content['MRData']['ConstructorTable']['Constructors'][item]['nationality'])\n",
        "        constructors['url'].append(content['MRData']['ConstructorTable']['Constructors'][item]['url'])\n",
        "df_constructors=pd.DataFrame(constructors) #hacemos DataFrame\n",
        "df_constructors.to_csv('constructors.csv',index=False)#Lo hacemos csv"
      ]
    },
    {
      "cell_type": "markdown",
      "id": "e0e408fe",
      "metadata": {
        "id": "e0e408fe"
      },
      "source": [
        "### Circuits"
      ]
    },
    {
      "cell_type": "code",
      "execution_count": null,
      "id": "57b6cb5c",
      "metadata": {
        "id": "57b6cb5c"
      },
      "outputs": [],
      "source": [
        "circuits={'year':[],'circuitId':[],\n",
        "           'name':[],'location':[], 'country':[],\n",
        "           'lat':[], 'lng':[], 'alt':[],\n",
        "           'url':[]}\n",
        "#hacemos diccionario para despues almacenar lo extraido de la api\n",
        "for year in list(range(2010,2023)):\n",
        "    url= 'http://ergast.com/api/f1/{}/circuits.json?limit=1000'\n",
        "    response = requests.get(url.format(year))\n",
        "    content=json.loads(response.content)\n",
        "    path=content['MRData']['CircuitTable']\n",
        "    for item in range(0,len(path['Circuits'])):\n",
        "        circuits['year'].append(int(path['season']))\n",
        "        circuits['circuitId'].append(path['Circuits'][item]['circuitId'])\n",
        "        circuits['name'].append(path['Circuits'][item]['circuitName'])\n",
        "        circuits['location'].append(path['Circuits'][item]['Location']['locality'])\n",
        "        circuits['country'].append(path['Circuits'][item]['Location']['country'])\n",
        "        circuits['lat'].append(float(path['Circuits'][item]['Location']['lat']))\n",
        "        circuits['lng'].append(float(path['Circuits'][item]['Location']['long']))\n",
        "        circuits['alt'].append(path['Circuits'][item]['Location']['locality'])\n",
        "        circuits['url'].append(path['Circuits'][item]['url'])\n",
        "df_circuits=pd.DataFrame(circuits)# hacemos DataFrame\n",
        "df_circuits.to_csv('circuits.csv',index=False)#Lo hacemos csv"
      ]
    },
    {
      "cell_type": "markdown",
      "id": "07d2baaf",
      "metadata": {
        "id": "07d2baaf"
      },
      "source": [
        "### Qualys"
      ]
    },
    {
      "cell_type": "code",
      "execution_count": null,
      "id": "924b3a0d",
      "metadata": {
        "id": "924b3a0d"
      },
      "outputs": [],
      "source": [
        "quali={\"year\":[],\"driverId\":[],\"ConstructorId\":[],\"number\":[],\"position\":[],\"qualifyId\":[],\"raceId\":[],\"q1\":[],\"q2\":[],\"q3\":[]}\n",
        "#hacemos diccionario para despues almacenar lo extraido de la api\n",
        "for year in range(2010,2023):#dividimos el url ya que necesitamos año/temporada y # de carrera\n",
        "    url='http://ergast.com/api/f1' \n",
        "    url1=url+'/{}.json?limit=1000'\n",
        "    #jugamos concatenando la url\n",
        "    url2=url+'/{}'.format(year)\n",
        "    response = requests.get(url1.format(year)) \n",
        "    content=json.loads(response.content)\n",
        "    link=[]#creamos la lista de los links y depsues hacemos el proceso de siempre\n",
        "    for k in range(0,len(content['MRData']['RaceTable']['Races'])):\n",
        "        url3=url2+'/{}/qualifying.json?limit=100'\n",
        "        link.append(url3.format(k))\n",
        "        \n",
        "    for lk in link:# se extrae la info\n",
        "        response = requests.get(lk)\n",
        "        content=json.loads(response.content)\n",
        "        for it in content['MRData']['RaceTable']['Races']:#doble for porque hay año y 20 carreras aprox en cada temporada\n",
        "            for it1 in content['MRData']['RaceTable']['Races'][0]['QualifyingResults']:\n",
        "                quali[\"year\"].append(int(it['season']))\n",
        "                quali[\"qualifyId\"].append(int( it['round']))\n",
        "                quali[\"raceId\"].append(it['raceName']) \n",
        "                quali[\"driverId\"].append(it1['Driver']['driverId'])   \n",
        "                quali[\"ConstructorId\"].append(it1['Constructor']['constructorId'])\n",
        "                quali[\"number\"].append(int(it1['number']))\n",
        "                quali[\"position\"].append(int(it1['position']))\n",
        "                #utilizamos try porque hay entradas NAS ya que se van eliminando \n",
        "                quali[\"q1\"].append(it1['Q1'])# se eliminan los ultimos 10\n",
        "                try:\n",
        "                    quali[\"q2\"].append(it1['Q2'])# se eliminan los ultimos 5 restantes\n",
        "                except:\n",
        "                    quali[\"q2\"].append(\"\")\n",
        "                try:\n",
        "                    quali[\"q3\"].append(it1['Q3'])# solo tienen tiempo los 5 restantes\n",
        "                except:\n",
        "                    quali[\"q3\"].append(\"\")\n",
        "\n",
        "dfquali=pd.DataFrame.from_dict(qualifiying,orient='index')# hacemos Data Frame pero como no tiene el mismo numero de datos\n",
        "dfquali=dfquali.transpose()\n",
        "dfquali.to_csv('qualifiying.csv',index=False)#Lo hacemos csv"
      ]
    }
  ],
  "metadata": {
    "kernelspec": {
      "display_name": "Python 3 (ipykernel)",
      "language": "python",
      "name": "python3"
    },
    "language_info": {
      "codemirror_mode": {
        "name": "ipython",
        "version": 3
      },
      "file_extension": ".py",
      "mimetype": "text/x-python",
      "name": "python",
      "nbconvert_exporter": "python",
      "pygments_lexer": "ipython3",
      "version": "3.9.15"
    },
    "colab": {
      "provenance": []
    }
  },
  "nbformat": 4,
  "nbformat_minor": 5
}