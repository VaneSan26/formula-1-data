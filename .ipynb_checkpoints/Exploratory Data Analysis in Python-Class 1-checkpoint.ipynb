{
 "cells": [
  {
   "cell_type": "markdown",
   "metadata": {},
   "source": [
    "## Exploring the NSFG data\n",
    "\n",
    "To get the number of rows and columns in a DataFrame, you can read its shape attribute.\n",
    "\n",
    "To get the column names, you can read the columns attribute. The result is an Index, which is a Pandas data structure that is similar to a list. Let's begin exploring the NSFG data! It has been pre-loaded for you into a DataFrame called nsfg."
   ]
  },
  {
   "cell_type": "markdown",
   "metadata": {},
   "source": [
    "<li> Calculate the number of rows and columns in the DataFrame nsfg.\n",
    "    <li>Display the names of the columns in nsfg.\n",
    "        <li>Select the column 'birthwgt_oz1' and assign it to a new variable called ounces.\n",
    "            <li>Display the first 5 elements of ounces."
   ]
  },
  {
   "cell_type": "code",
   "execution_count": 1,
   "metadata": {},
   "outputs": [],
   "source": [
    "import pandas as pd\n",
    "import numpy as np"
   ]
  },
  {
   "cell_type": "code",
   "execution_count": 2,
   "metadata": {},
   "outputs": [],
   "source": [
    "nsfg=pd.read_hdf('nsfg.hdf5','nsfg')"
   ]
  },
  {
   "cell_type": "code",
   "execution_count": 3,
   "metadata": {},
   "outputs": [
    {
     "data": {
      "text/plain": [
       "0     4.0\n",
       "1    12.0\n",
       "2     4.0\n",
       "3     NaN\n",
       "4    13.0\n",
       "Name: birthwgt_oz1, dtype: float64"
      ]
     },
     "execution_count": 3,
     "metadata": {},
     "output_type": "execute_result"
    }
   ],
   "source": [
    "# Display the number of rows and columns\n",
    "nsfg.shape\n",
    "# Display the names of the columns\n",
    "nsfg.columns\n",
    "# Select column birthwgt_oz1: ounces\n",
    "pounds = nsfg['birthwgt_oz1']\n",
    "type(pounds)\n",
    "# Print the first 5 elements of ounces\n",
    "pounds.head()"
   ]
  },
  {
   "cell_type": "code",
   "execution_count": 11,
   "metadata": {},
   "outputs": [],
   "source": [
    "#se asignan los valores de la columna de peso en libras\n",
    "pounds = nsfg['birthwgt_lb1']"
   ]
  },
  {
   "cell_type": "code",
   "execution_count": 12,
   "metadata": {},
   "outputs": [],
   "source": [
    "#se asignan los valores de la columna de peso en onzas\n",
    "ounces = nsfg['birthwgt_oz1']"
   ]
  },
  {
   "cell_type": "code",
   "execution_count": null,
   "metadata": {},
   "outputs": [],
   "source": [
    "#tenemos que validar datos para ver que los estamos interpretando correctamente \n",
    "#para esto usamos, nos ensela que valiores aparecen el libras y cuantas veces aparece cada valor\n",
    "#para ordenarlos de 0,1,2,3.. se utiliza sort index, ya que por default se ordenan por el valor\n",
    "#más frecuente\n",
    "pounds.value_counts().sort_index()\n",
    "#Se puede validar comparando con el libro de codigo que enumera los valores y frecuencias"
   ]
  },
  {
   "cell_type": "code",
   "execution_count": 13,
   "metadata": {},
   "outputs": [
    {
     "data": {
      "text/plain": [
       "count    6485.000000\n",
       "mean        8.055204\n",
       "std        11.178893\n",
       "min         0.000000\n",
       "25%         6.000000\n",
       "50%         7.000000\n",
       "75%         8.000000\n",
       "max        99.000000\n",
       "Name: birthwgt_lb1, dtype: float64"
      ]
     },
     "execution_count": 13,
     "metadata": {},
     "output_type": "execute_result"
    }
   ],
   "source": [
    "#otro metodo pra comparar los datos es: \n",
    "#calcula estadisticas de resumen (media, desv est,m min, max)\n",
    "pounds.describe()"
   ]
  },
  {
   "cell_type": "code",
   "execution_count": 14,
   "metadata": {},
   "outputs": [
    {
     "data": {
      "text/plain": [
       "6.703286384976526"
      ]
     },
     "execution_count": 14,
     "metadata": {},
     "output_type": "execute_result"
    }
   ],
   "source": [
    "#REPLACE\n",
    "#Para poder tener un mejor análisis debemos eliminar los datos Na, se reemplazan de la siguiente forma\n",
    "#replace, necesita una lista de valores que queremos reemplazar y el valor con el que uerems reemplazarlo\n",
    "#np.nan quiere decir que estamos obteniendo el valor especial nan de la biblioteca non, el resultado es una nuva serie \n",
    "\n",
    "pounds = pounds.replace([98,99], np.nan)\n",
    "pounds.mean()"
   ]
  },
  {
   "cell_type": "code",
   "execution_count": 15,
   "metadata": {},
   "outputs": [],
   "source": [
    "#En lugar de crear una nueva serie se puede llamar a replace , incluyendo el parametro inplace =True\n",
    "#que modific la erie existente en su lugar (sin hacer copia)\n",
    "ounces.replace([98,99], np.nan, inplace=True)"
   ]
  },
  {
   "cell_type": "code",
   "execution_count": 17,
   "metadata": {},
   "outputs": [
    {
     "data": {
      "text/plain": [
       "count    6355.000000\n",
       "mean        7.120978\n",
       "std         1.422236\n",
       "min         0.000000\n",
       "25%         6.375000\n",
       "50%         7.187500\n",
       "75%         8.000000\n",
       "max        17.937500\n",
       "dtype: float64"
      ]
     },
     "execution_count": 17,
     "metadata": {},
     "output_type": "execute_result"
    }
   ],
   "source": [
    "#Ahora queremos combinas las libras y onzas en un serie\n",
    "#los operdores aritmeticos trabajan con objtos en este caso series\n",
    "\n",
    "#para convertir de onas a libras dividimos por 16 y sumar ambos objetos para obtener el total\n",
    "\n",
    "birth_weight = pounds + ounces / 16.0\n",
    "\n",
    "birth_weight.describe()"
   ]
  },
  {
   "cell_type": "markdown",
   "metadata": {},
   "source": [
    "## Clean a variable\n",
    "\n",
    "In the NSFG dataset, the variable <code>'nbrnaliv'</code> records the number of babies born alive at the end of a pregnancy.\n",
    "\n",
    "If you use <code>.value_counts()</code> to view the responses, you'll see that the value <code>8</code> appears once, and if you consult the codebook, you'll see that this value indicates that the respondent refused to answer the question.\n",
    "\n",
    "Your job in this exercise is to replace this value with <code>np.nan</code>. Recall from the video how Allen replaced the values 98 and 99 in the <code>ounces</code> column using the <code>.replace()</code> method:\n",
    "\n",
    "<code>ounces.replace([98, 99], np.nan, inplace=True)</code>"
   ]
  },
  {
   "cell_type": "markdown",
   "metadata": {},
   "source": [
    "<li>In the <code>'nbrnaliv'</code> column, replace the value <code>8</code>, in place, with the special value <code>NaN</code>.\n",
    "<li>Confirm that the value <code>8</code> no longer appears in this column by printing the values and their frequencies."
   ]
  },
  {
   "cell_type": "code",
   "execution_count": 18,
   "metadata": {},
   "outputs": [],
   "source": [
    "alive = nsfg['nbrnaliv']"
   ]
  },
  {
   "cell_type": "code",
   "execution_count": 19,
   "metadata": {},
   "outputs": [
    {
     "data": {
      "text/plain": [
       "1.0    6379\n",
       "2.0     100\n",
       "3.0       5\n",
       "8.0       1\n",
       "Name: nbrnaliv, dtype: int64"
      ]
     },
     "execution_count": 19,
     "metadata": {},
     "output_type": "execute_result"
    }
   ],
   "source": [
    "alive.value_counts()"
   ]
  },
  {
   "cell_type": "code",
   "execution_count": 21,
   "metadata": {},
   "outputs": [],
   "source": [
    "# Replace the value 8 with NaN\n",
    "nsfg['nbrnaliv'].replace(8, np.nan, inplace=True)"
   ]
  },
  {
   "cell_type": "code",
   "execution_count": null,
   "metadata": {},
   "outputs": [],
   "source": [
    "# Replace the value 8 with NaN\n",
    "nsfg['nbrnaliv'].replace(8, np.nan, inplace=True)"
   ]
  },
  {
   "cell_type": "code",
   "execution_count": 23,
   "metadata": {},
   "outputs": [
    {
     "name": "stdout",
     "output_type": "stream",
     "text": [
      "1.0    6379\n",
      "2.0     100\n",
      "3.0       5\n",
      "Name: nbrnaliv, dtype: int64\n"
     ]
    }
   ],
   "source": [
    "\n",
    "# Print the values and their frequencies\n",
    "\n",
    "print(nsfg['nbrnaliv'].value_counts())"
   ]
  },
  {
   "cell_type": "markdown",
   "metadata": {},
   "source": [
    "## Compute a variable\n",
    "\n",
    "For each pregnancy in the NSFG dataset, the variable <code>'agecon'</code> encodes the respondent's age at conception, and <code>'agepreg'</code> the respondent's age at the end of the pregnancy.\n",
    "\n",
    "Both variables are recorded as integers with two implicit decimal places, so the value <code>2575</code> means that the respondent's age was <code>25.75</code>."
   ]
  },
  {
   "cell_type": "markdown",
   "metadata": {},
   "source": [
    "<li>Select <code>'agecon'</code> and <code>'agepreg'</code>, divide them by <code>100</code>, and assign them to the local variables <code>agecon</code> and <code>agepreg</code>.\n",
    "    <li>Compute the difference, which is an estimate of the duration of the pregnancy. Keep in mind that for each pregnancy, <code>agepreg</code> will be larger than <code>agecon</code>.\n",
    "<li>Use <code>.describe()</code> to compute the mean duration and other summary statistics."
   ]
  },
  {
   "cell_type": "code",
   "execution_count": 25,
   "metadata": {},
   "outputs": [],
   "source": [
    "agecon = nsfg['agecon']"
   ]
  },
  {
   "cell_type": "code",
   "execution_count": 26,
   "metadata": {},
   "outputs": [],
   "source": [
    "agepreg = nsfg['agepreg']"
   ]
  },
  {
   "cell_type": "code",
   "execution_count": 30,
   "metadata": {},
   "outputs": [],
   "source": [
    "# Select the columns and divide by 100\n",
    "agecon = nsfg['agecon'] / 100\n",
    "agepreg = nsfg['agepreg'] / 100\n"
   ]
  },
  {
   "cell_type": "code",
   "execution_count": 31,
   "metadata": {},
   "outputs": [],
   "source": [
    "# Compute the difference\n",
    "preg_length = agepreg - agecon"
   ]
  },
  {
   "cell_type": "code",
   "execution_count": 34,
   "metadata": {},
   "outputs": [
    {
     "name": "stdout",
     "output_type": "stream",
     "text": [
      "count    9109.000000\n",
      "mean        0.552069\n",
      "std         0.271479\n",
      "min         0.000000\n",
      "25%         0.250000\n",
      "50%         0.670000\n",
      "75%         0.750000\n",
      "max         0.920000\n",
      "dtype: float64\n"
     ]
    }
   ],
   "source": [
    "# Compute summary statistics\n",
    "print(preg_length.describe())"
   ]
  },
  {
   "cell_type": "markdown",
   "metadata": {},
   "source": [
    "## Make a histogram\n",
    "\n",
    "Histograms are one of the most useful tools in exploratory data analysis. They quickly give you an overview of the distribution of a variable, that is, what values the variable can have, and how many times each value appears.\n",
    "\n",
    "As we saw in a previous exercise, the NSFG dataset includes a variable <code>'agecon'</code> that records age at conception for each pregnancy. Here, you're going to plot a histogram of this variable. You'll use the <code>bins</code> parameter that you saw in the presentation, and also a new parameter <code>- histtype -</code>"
   ]
  },
  {
   "cell_type": "markdown",
   "metadata": {},
   "source": [
    "<li> Plot a histogram of <code>agecon</code> with <code>20</code> bins.\n",
    "    <li> Adapt your code to make an unfilled histogram by setting the parameter <code>histtype</code> to be <code>'step'</code>."
   ]
  },
  {
   "cell_type": "code",
   "execution_count": 35,
   "metadata": {},
   "outputs": [],
   "source": [
    "import matplotlib.pyplot as plt"
   ]
  },
  {
   "cell_type": "code",
   "execution_count": 36,
   "metadata": {},
   "outputs": [
    {
     "data": {
      "text/plain": [
       "(array([2.000e+00, 1.500e+01, 1.500e+01, 2.900e+01, 2.600e+01, 5.200e+01,\n",
       "        6.500e+01, 1.200e+02, 2.900e+02, 3.200e+02, 1.104e+03, 1.033e+03,\n",
       "        1.375e+03, 8.630e+02, 5.730e+02, 3.060e+02, 9.200e+01, 4.200e+01,\n",
       "        1.500e+01, 6.000e+00, 7.000e+00, 2.000e+00, 0.000e+00, 2.000e+00,\n",
       "        0.000e+00, 0.000e+00, 0.000e+00, 0.000e+00, 0.000e+00, 1.000e+00]),\n",
       " array([ 0.        ,  0.59791667,  1.19583333,  1.79375   ,  2.39166667,\n",
       "         2.98958333,  3.5875    ,  4.18541667,  4.78333333,  5.38125   ,\n",
       "         5.97916667,  6.57708333,  7.175     ,  7.77291667,  8.37083333,\n",
       "         8.96875   ,  9.56666667, 10.16458333, 10.7625    , 11.36041667,\n",
       "        11.95833333, 12.55625   , 13.15416667, 13.75208333, 14.35      ,\n",
       "        14.94791667, 15.54583333, 16.14375   , 16.74166667, 17.33958333,\n",
       "        17.9375    ]),\n",
       " <BarContainer object of 30 artists>)"
      ]
     },
     "execution_count": 36,
     "metadata": {},
     "output_type": "execute_result"
    },
    {
     "data": {
      "image/png": "[encoded data removed]",
      "text/plain": [
       "<Figure size 640x480 with 1 Axes>"
      ]
     },
     "metadata": {},
     "output_type": "display_data"
    }
   ],
   "source": [
    "#Como se ve la distribucion de los valores usados en un gráico\n",
    "#se usa el submodulo pyplot\n",
    "#muestra frecuencia con la que aoarecen los datos (pyplot no funciona con nas, por lo que se \n",
    "#ocupa dropna)\n",
    "#bins divide en intervalos a los valores, en este caso los divide en 30\n",
    "\n",
    "plt.hist(birth_weight.dropna(), bins=30)"
   ]
  },
  {
   "cell_type": "code",
   "execution_count": 39,
   "metadata": {},
   "outputs": [
    {
     "data": {
      "image/png": "[encoded data removed]",
      "text/plain": [
       "<Figure size 640x480 with 1 Axes>"
      ]
     },
     "metadata": {},
     "output_type": "display_data"
    }
   ],
   "source": [
    "# Plot the histogram\n",
    "\n",
    "# Label the axes\n",
    "plt.xlabel('Birth weight (lb)')\n",
    "plt.ylabel('Fraction of births')\n",
    "plt.hist(birth_weight.dropna(), bins=30)\n",
    "# Show the figure\n",
    "plt.show()"
   ]
  },
  {
   "cell_type": "code",
   "execution_count": 40,
   "metadata": {},
   "outputs": [
    {
     "data": {
      "text/plain": [
       "0    False\n",
       "1     True\n",
       "2     True\n",
       "3     True\n",
       "4    False\n",
       "Name: prglngth, dtype: bool"
      ]
     },
     "execution_count": 40,
     "metadata": {},
     "output_type": "execute_result"
    }
   ],
   "source": [
    "#Para ver que bebés son prematuros podemos ocupar la columna prglngth que registra la duracion de embarazo\n",
    "#nos da una seria boleana al comparar una serie con un valor númerico\n",
    "#V=1 F=0\n",
    "#la suma es V\n",
    "\n",
    "preterm = nsfg['prglngth'] < 37\n",
    "preterm.head()"
   ]
  },
  {
   "cell_type": "code",
   "execution_count": 41,
   "metadata": {},
   "outputs": [
    {
     "data": {
      "text/plain": [
       "3742"
      ]
     },
     "execution_count": 41,
     "metadata": {},
     "output_type": "execute_result"
    }
   ],
   "source": [
    "preterm.sum()"
   ]
  },
  {
   "cell_type": "code",
   "execution_count": 42,
   "metadata": {},
   "outputs": [
    {
     "data": {
      "text/plain": [
       "0.39987176747168196"
      ]
     },
     "execution_count": 42,
     "metadata": {},
     "output_type": "execute_result"
    }
   ],
   "source": [
    "preterm.mean()"
   ]
  },
  {
   "cell_type": "code",
   "execution_count": 43,
   "metadata": {},
   "outputs": [
    {
     "data": {
      "text/plain": [
       "5.577598314606742"
      ]
     },
     "execution_count": 43,
     "metadata": {},
     "output_type": "execute_result"
    }
   ],
   "source": [
    "#La serie boleana funciona como un filtro\n",
    "#satisfagan una condicion o cumplan algun criterio\n",
    "# bebés prematuros\n",
    "\n",
    "preterm_weight = birth_weight[preterm]\n",
    "preterm_weight.mean()"
   ]
  },
  {
   "cell_type": "code",
   "execution_count": 44,
   "metadata": {},
   "outputs": [],
   "source": [
    "#ocupando el operador no logico o inverso, nos da los bebés no prematuros\n",
    "full_term_weight = birth_weight[~preterm]"
   ]
  },
  {
   "cell_type": "code",
   "execution_count": 45,
   "metadata": {},
   "outputs": [
    {
     "data": {
      "text/plain": [
       "<bound method NDFrame._add_numeric_operations.<locals>.mean of 0       5.2500\n",
       "4       8.8125\n",
       "9       8.6250\n",
       "14      6.5000\n",
       "15      5.5000\n",
       "         ...  \n",
       "9350    7.7500\n",
       "9352    7.0000\n",
       "9354    8.4375\n",
       "9356    8.1875\n",
       "9357    8.3125\n",
       "Length: 5616, dtype: float64>"
      ]
     },
     "execution_count": 45,
     "metadata": {},
     "output_type": "execute_result"
    }
   ],
   "source": [
    "full_term_weight.mean #bebés no prematuros más pesados"
   ]
  },
  {
   "cell_type": "code",
   "execution_count": 46,
   "metadata": {},
   "outputs": [
    {
     "ename": "NameError",
     "evalue": "name 'A' is not defined",
     "output_type": "error",
     "traceback": [
      "\u001b[1;31m---------------------------------------------------------------------------\u001b[0m",
      "\u001b[1;31mNameError\u001b[0m                                 Traceback (most recent call last)",
      "\u001b[1;32m~\\AppData\\Local\\Temp\\ipykernel_8360\\2931727672.py\u001b[0m in \u001b[0;36m<module>\u001b[1;34m\u001b[0m\n\u001b[0;32m      1\u001b[0m \u001b[1;31m#podemos combinar 2 series boleanas con operadores lógicos\u001b[0m\u001b[1;33m\u001b[0m\u001b[1;33m\u001b[0m\u001b[0m\n\u001b[0;32m      2\u001b[0m \u001b[1;33m\u001b[0m\u001b[0m\n\u001b[1;32m----> 3\u001b[1;33m \u001b[0mbirth_weight\u001b[0m\u001b[1;33m[\u001b[0m\u001b[0mA\u001b[0m \u001b[1;33m&\u001b[0m \u001b[0mB\u001b[0m\u001b[1;33m]\u001b[0m \u001b[1;31m#both true\u001b[0m\u001b[1;33m\u001b[0m\u001b[1;33m\u001b[0m\u001b[0m\n\u001b[0m\u001b[0;32m      4\u001b[0m \u001b[0mbirth_weight\u001b[0m\u001b[1;33m[\u001b[0m\u001b[0mA\u001b[0m \u001b[1;33m|\u001b[0m \u001b[0mB\u001b[0m\u001b[1;33m]\u001b[0m \u001b[1;31m#either or both true\u001b[0m\u001b[1;33m\u001b[0m\u001b[1;33m\u001b[0m\u001b[0m\n",
      "\u001b[1;31mNameError\u001b[0m: name 'A' is not defined"
     ]
    }
   ],
   "source": [
    "#podemos combinar 2 series boleanas con operadores lógicos\n",
    "\n",
    "#birth_weight[A & B] #both true\n",
    "#birth_weight[A | B] #either or both true"
   ]
  },
  {
   "cell_type": "code",
   "execution_count": null,
   "metadata": {},
   "outputs": [],
   "source": [
    "#MUESTREO \n",
    "#el sobremuestreo ayuda a decir que hay suficientes personas en el grupo para obtener estadisticas confiables\n",
    "\n",
    "#ocupamos resample_rows_weighted()"
   ]
  },
  {
   "cell_type": "code",
   "execution_count": null,
   "metadata": {},
   "outputs": [],
   "source": []
  },
  {
   "cell_type": "code",
   "execution_count": null,
   "metadata": {},
   "outputs": [],
   "source": []
  },
  {
   "cell_type": "markdown",
   "metadata": {},
   "source": [
    "## Compute birth weight\n",
    "\n",
    "Now let's pull together the steps in this chapter to compute the average birth weight for full-term babies.\n",
    "\n",
    "I've provided a function, resample_rows_weighted, that takes the NSFG data and resamples it using the sampling weights in wgt2013_2015. The result is a sample that is representative of the U.S. population.\n",
    "\n",
    "Then I extract birthwgt_lb1 and birthwgt_oz1, replace special codes with NaN, and compute total birth weight in pounds, birth_weight.\n",
    "\n",
    "<code>#Resample the data</code>\n",
    "\n",
    "<code>nsfg = resample_rows_weighted(nsfg, 'wgt2013_2015')</code>\n",
    "\n",
    "<code>#Clean the weight variables</code>\n",
    "\n",
    "<code>pounds = nsfg['birthwgt_lb1'].replace([98, 99], np.nan)</code>\n",
    "\n",
    "<code>ounces = nsfg['birthwgt_oz1'].replace([98, 99], np.nan)</code>\n",
    "\n",
    "<code>#Compute total birth weight</code>\n",
    "\n",
    "<code>birth_weight = pounds + ounces/16</code>"
   ]
  },
  {
   "cell_type": "code",
   "execution_count": null,
   "metadata": {},
   "outputs": [],
   "source": [
    "def resample_rows_weighted(df, column='finalwgt'):\n",
    "    \"\"\"Resamples a DataFrame using probabilities proportional to given column.\n",
    "\n",
    "    df: DataFrame\n",
    "    column: string column name to use as weights\n",
    "\n",
    "    returns: DataFrame\n",
    "    \"\"\"\n",
    "    weights = df[column].copy()\n",
    "    weights /= sum(weights)\n",
    "    indices = np.random.choice(df.index, len(df), replace=True, p=weights)\n",
    "    sample = df.loc[indices]\n",
    "    return sample"
   ]
  },
  {
   "cell_type": "code",
   "execution_count": null,
   "metadata": {},
   "outputs": [],
   "source": [
    "# Resample the data\n",
    "nsfg = resample_rows_weighted(nsfg, 'wgt2013_2015')\n",
    "\n",
    "# Clean the weight variables\n",
    "pounds = nsfg['birthwgt_lb1'].replace([98, 99], np.nan)\n",
    "ounces = nsfg['birthwgt_oz1'].replace([98, 99], np.nan)\n",
    "\n",
    "# Compute total birth weight\n",
    "birth_weight = pounds + ounces/16"
   ]
  },
  {
   "cell_type": "markdown",
   "metadata": {},
   "source": [
    "<li>Make a Boolean Series called <code>full_term</code> that is true for babies with <code>'prglngth'</code> greater than or equal to 37 weeks.\n",
    "<li>Use <code>full_term</code> and <code>birth_weight</code> to select birth weight in pounds for full-term babies. Store the result in <code>full_term_weight</code>.\n",
    "<li>Compute the mean weight of full-term babies."
   ]
  },
  {
   "cell_type": "code",
   "execution_count": null,
   "metadata": {},
   "outputs": [],
   "source": [
    "# Create a Boolean Series for full-term babies\n",
    "full_term = ___\n",
    "\n",
    "\n",
    "# Select the weights of full-term babies\n",
    "full_term_weight = ___\n",
    "\n",
    "# Compute the mean weight of full-term babies\n",
    "print(____)"
   ]
  },
  {
   "cell_type": "markdown",
   "metadata": {},
   "source": [
    "## Filter\n",
    "\n",
    "In the previous exercise, you computed the mean birth weight for full-term babies; you filtered out preterm babies because their distribution of weight is different.\n",
    "\n",
    "The distribution of weight is also different for multiple births, like twins and triplets. In this exercise, you'll filter them out, too, and see what effect it has on the mean."
   ]
  },
  {
   "cell_type": "markdown",
   "metadata": {},
   "source": [
    "<li> Use the variable <code>'nbrnaliv'</code> to make a Boolean Series that is <code>True</code> for single births (where <code>'nbrnaliv'</code> equals 1) and <code>False</code> otherwise.\n",
    "<li>Use Boolean Series and logical operators to select single, full-term babies and compute their mean birth weight.\n",
    "<li>For comparison, select multiple, full-term babies and compute their mean birth weight."
   ]
  },
  {
   "cell_type": "code",
   "execution_count": null,
   "metadata": {},
   "outputs": [],
   "source": [
    "# Filter full-term babies\n",
    "full_term = nsfg['prglngth'] >= 37\n",
    "\n",
    "# Filter single births\n",
    "single = \n",
    "\n",
    "# Compute birth weight for single full-term babies\n",
    "single_full_term_weight = birth_weight[ ____ & _____ ]\n",
    "print('Single full-term mean:', single_full_term_weight.mean())\n",
    "\n",
    "# Compute birth weight for multiple full-term babies\n",
    "mult_full_term_weight = birth_weight[ ____ & ____]\n",
    "print('Multiple full-term mean:', mult_full_term_weight.mean())"
   ]
  },
  {
   "cell_type": "markdown",
   "metadata": {},
   "source": [
    "## Probability mass functions"
   ]
  },
  {
   "cell_type": "code",
   "execution_count": null,
   "metadata": {},
   "outputs": [],
   "source": [
    "gss=pd.read_hdf('gss.hdf5','gss')"
   ]
  },
  {
   "cell_type": "code",
   "execution_count": null,
   "metadata": {},
   "outputs": [],
   "source": [
    "from empiricaldist import Pmf, Cdf"
   ]
  },
  {
   "cell_type": "markdown",
   "metadata": {},
   "source": [
    "## Make a PMF\n",
    "\n",
    "The GSS dataset has been pre-loaded for you into a DataFrame called <code>gss</code>. You can explore it in the Scrypt to get familiar with it.\n",
    "\n",
    "In this exercise, you'll focus on one variable in this dataset, <code>'year'</code>, which represents the year each respondent was interviewed."
   ]
  },
  {
   "cell_type": "markdown",
   "metadata": {},
   "source": [
    "<li>Make a PMF for <code>year</code> with <code>normalize=False</code> and display the result."
   ]
  },
  {
   "cell_type": "code",
   "execution_count": null,
   "metadata": {},
   "outputs": [],
   "source": [
    "# Compute the PMF for year\n",
    "\n",
    "pmf_year = Pmf(Pmf.from_seq(____, normalize=____),)\n",
    "\n",
    "# Print the result\n",
    "print(pmf_year)"
   ]
  },
  {
   "cell_type": "markdown",
   "metadata": {},
   "source": [
    "Question\n",
    "\n",
    "How many respondents were interviewed in 2016?"
   ]
  },
  {
   "cell_type": "markdown",
   "metadata": {},
   "source": [
    "## Plot a PMF\n",
    "\n",
    "Now let's plot a PMF for the age of the respondents in the GSS dataset. The variable <code>'age'</code> contains respondents' age in years."
   ]
  },
  {
   "cell_type": "markdown",
   "metadata": {},
   "source": [
    "<li> Select the <code>'age'</code> column from the <code>gss</code> DataFrame and store the result in <code>age</code>.\n",
    "<li> Make a normalized PMF of <code>age</code>. Store the result in <code>pmf_age</code>.\n",
    "<li> Plot <code>pmf_age</code> as a bar chart."
   ]
  },
  {
   "cell_type": "code",
   "execution_count": null,
   "metadata": {},
   "outputs": [],
   "source": [
    "# Select the age column\n",
    "age = ____\n",
    "\n",
    "# Make a PMF of age\n",
    "pmf_age = Pmf.from_seq(___)\n",
    "\n",
    "# Plot the PMF\n",
    "\n",
    "# Label the axes\n",
    "plt.xlabel('Age')\n",
    "plt.xticks(rotation=90)\n",
    "plt.ylabel('PMF')\n",
    "\n",
    "plt.show()"
   ]
  },
  {
   "cell_type": "markdown",
   "metadata": {},
   "source": [
    "## Make a CDF\n",
    "\n",
    "In this exercise, you'll make a CDF and use it to determine the fraction of respondents in the GSS dataset who are OLDER than 30.\n",
    "\n",
    "The GSS dataset has been preloaded for you into a DataFrame called <code>gss</code>."
   ]
  },
  {
   "cell_type": "markdown",
   "metadata": {},
   "source": [
    "<li>Select the <code>'age'</code> column. Store the result in <code>age</code>.\n",
    "<li>Compute the CDF of <code>age</code>. Store the result in <code>cdf_age</code>.\n",
    "<li>Calculate the CDF of <code>30</code>."
   ]
  },
  {
   "cell_type": "code",
   "execution_count": null,
   "metadata": {},
   "outputs": [],
   "source": [
    "# Select the age column\n",
    "age = \n",
    "\n",
    "# Compute the CDF of age\n",
    "cdf_age = Cdf.from_seq(___)\n",
    "\n",
    "# Calculate the CDF of 30\n",
    "print(___)"
   ]
  },
  {
   "cell_type": "markdown",
   "metadata": {},
   "source": [
    "Question\n",
    "\n",
    "What fraction of the respondents in the GSS dataset are OLDER than 30?"
   ]
  },
  {
   "cell_type": "code",
   "execution_count": null,
   "metadata": {},
   "outputs": [],
   "source": []
  },
  {
   "cell_type": "markdown",
   "metadata": {},
   "source": [
    "## Compute IQR\n",
    "\n",
    "Recall from the video that the interquartile range (IQR) is the difference between the 75th and 25th percentiles. It is a measure of variability that is robust in the presence of errors or extreme values.\n",
    "\n",
    "In this exercise, you'll compute the interquartile range of income in the GSS dataset. Income is stored in the <code>'realinc'</code> column, and the CDF of income has already been computed and stored in <code>cdf_income</code>."
   ]
  },
  {
   "cell_type": "code",
   "execution_count": null,
   "metadata": {},
   "outputs": [],
   "source": [
    "cdf_income=Cdf.from_seq(gss['realinc'])"
   ]
  },
  {
   "cell_type": "markdown",
   "metadata": {},
   "source": [
    "<li>Calculate the 75th percentile of income and store it in <code>percentile_75th</code>.\n",
    "    <li>Calculate the 25th percentile of income and store it in <code>percentile_25th</code>.\n",
    "        <li>Calculate the interquartile range of income. Store the result in <code>iqr</code>."
   ]
  },
  {
   "cell_type": "code",
   "execution_count": null,
   "metadata": {},
   "outputs": [],
   "source": [
    "# Calculate the 75th percentile \n",
    "\n",
    "\n",
    "# Calculate the 25th percentile\n",
    "\n",
    "\n",
    "# Calculate the interquartile range\n",
    "\n",
    "\n",
    "# Print the interquartile range\n"
   ]
  },
  {
   "cell_type": "markdown",
   "metadata": {},
   "source": [
    "## Plot a CDF\n",
    "\n",
    "The distribution of income in almost every country is long-tailed; that is, there are a small number of people with very high incomes.\n",
    "\n",
    "In the GSS dataset, the variable <code>'realinc'</code> represents total household income, converted to 1986 dollars. We can get a sense of the shape of this distribution by plotting the CDF."
   ]
  },
  {
   "cell_type": "markdown",
   "metadata": {},
   "source": [
    "<li>Select <code>'realinc'</code> from the gss dataset.\n",
    "<li>Make a Cdf object called <code>cdf_income</code>.\n",
    "<li>Create a plot of <code>cdf_income</code> using <code>.plot()</code>."
   ]
  },
  {
   "cell_type": "code",
   "execution_count": null,
   "metadata": {},
   "outputs": [],
   "source": [
    "# Select realinc\n",
    "income = ___\n",
    "\n",
    "# Make the CDF\n",
    "cdf_income = Cdf.from_seq(____)\n",
    "\n",
    "# Plot it\n",
    "_____\n",
    "\n",
    "# Label the axes\n",
    "plt.xlabel('Income (1986 USD)')\n",
    "plt.ylabel('CDF')\n",
    "plt.show()"
   ]
  },
  {
   "cell_type": "markdown",
   "metadata": {},
   "source": [
    "## Comparing distributions"
   ]
  },
  {
   "cell_type": "markdown",
   "metadata": {},
   "source": [
    "## Distribution of education\n",
    "\n",
    "Let's begin comparing incomes for different levels of education in the GSS dataset, which has been pre-loaded for you into a DataFrame called <code>gss</code>. The variable <code>educ</code> represents the respondent's years of education.\n",
    "\n",
    "What fraction of respondents report that they have 12 years of education or fewer?"
   ]
  },
  {
   "cell_type": "code",
   "execution_count": null,
   "metadata": {},
   "outputs": [],
   "source": []
  },
  {
   "cell_type": "markdown",
   "metadata": {},
   "source": [
    "## Extract education levels\n",
    "\n",
    "Let's create Boolean Series to identify respondents with different levels of education.\n",
    "\n",
    "In the U.S, 12 years of education usually means the respondent has completed high school (secondary education). A respondent with 14 years of education has probably completed an associate degree (two years of college); someone with 16 years has probably completed a bachelor's degree (four years of college)."
   ]
  },
  {
   "cell_type": "markdown",
   "metadata": {},
   "source": [
    "<li>Complete the line that identifies respondents with associate degrees, that is, people with 14 or more years of education but less than 16.\n",
    "<li>Complete the line that identifies respondents with 12 or fewer years of education.\n",
    "<li>Confirm that the mean of <code>high</code> is the fraction we computed in the previous exercise, about 53%."
   ]
  },
  {
   "cell_type": "code",
   "execution_count": null,
   "metadata": {},
   "outputs": [],
   "source": [
    "# Select educ\n",
    "educ = gss['educ']\n",
    "\n",
    "# Bachelor's degree\n",
    "bach = (educ >= 16)\n",
    "\n",
    "# Associate degree\n",
    "assc = ___\n",
    "\n",
    "# High school\n",
    "high = ____\n",
    "print(high.mean())"
   ]
  },
  {
   "cell_type": "markdown",
   "metadata": {},
   "source": [
    "## Plot income CDFs\n",
    "\n",
    "Let's now see what the distribution of income looks like for people with different education levels. You can do this by plotting the CDFs. Recall how Allen plotted the income CDFs of respondents interviewed before and after 1995:\n",
    "\n",
    "<code>Cdf(income[pre95]).plot(label='Before 1995')</code>\n",
    "\n",
    "<code>Cdf(income[~pre95]).plot(label='After 1995')</code>\n",
    "\n",
    "You can assume that Boolean Series have been defined, as in the previous exercise, to identify respondents with different education levels: <code>high</code>, <code>assc</code>, and <code>bach</code>."
   ]
  },
  {
   "cell_type": "markdown",
   "metadata": {},
   "source": [
    "<li>Fill in the missing lines of code to plot the CDFs."
   ]
  },
  {
   "cell_type": "code",
   "execution_count": null,
   "metadata": {},
   "outputs": [],
   "source": [
    "income = gss['realinc']\n",
    "\n",
    "# Plot the CDFs\n",
    "_____.plot(label='High school')\n",
    "_____.plot(label='Associate')\n",
    "_____.plot(label='Bachelor')\n",
    "\n",
    "# Label the axes\n",
    "plt.xlabel('Income (1986 USD)')\n",
    "plt.ylabel('CDF')\n",
    "plt.legend()\n",
    "plt.show()"
   ]
  },
  {
   "cell_type": "markdown",
   "metadata": {},
   "source": [
    "Nice job. It might not be surprising that people with more education have higher incomes, but looking at these distributions, we can see where the differences are."
   ]
  },
  {
   "cell_type": "markdown",
   "metadata": {},
   "source": [
    "## Modeling distributions"
   ]
  },
  {
   "cell_type": "markdown",
   "metadata": {},
   "source": [
    "Distribution of income\n",
    "\n",
    "In many datasets, the distribution of income is approximately lognormal, which means that the logarithms of the incomes fit a normal distribution. We'll see whether that's true for the GSS data. As a first step, you'll compute the mean and standard deviation of the log of incomes using NumPy's <code>np.log10()</code> function.\n",
    "\n",
    "Then, you'll use the computed mean and standard deviation to make a <code>norm</code> object using the <code>scipy.stats.norm()</code> function."
   ]
  },
  {
   "cell_type": "markdown",
   "metadata": {},
   "source": [
    "<li>Extract <code>'realinc'</code> from <code>gss</code> and compute its logarithm using <code>np.log10()</code>.\n",
    "<li>Compute the mean and standard deviation of the result.\n",
    "<li>Make a <code>norm</code> object by passing the computed mean and standard deviation to <code>norm()</code>."
   ]
  },
  {
   "cell_type": "code",
   "execution_count": null,
   "metadata": {},
   "outputs": [],
   "source": [
    "# Extract realinc and compute its log\n",
    "income = gss['realinc']\n",
    "log_income = ___\n",
    "\n",
    "# Compute mean and standard deviation\n",
    "mean = ____\n",
    "std = _____\n",
    "print(mean, std)\n",
    "\n",
    "# Make a norm object\n",
    "from scipy.stats import norm\n",
    "dist = ____"
   ]
  },
  {
   "cell_type": "markdown",
   "metadata": {},
   "source": [
    "Nice work. Now we can plot the model and the observed distribution and see where they differ."
   ]
  },
  {
   "cell_type": "markdown",
   "metadata": {},
   "source": [
    "## Comparing CDFs\n",
    "To see whether the distribution of income is well modeled by a lognormal distribution, we'll compare the CDF of the logarithm of the data to a normal distribution with the same mean and standard deviation. These variables from the previous exercise are available for use:\n",
    "\n",
    "Extract realinc and compute its log\n",
    "\n",
    "<code>log_income = np.log10(gss['realinc'])</code>\n",
    "\n",
    "Compute mean and standard deviation\n",
    "\n",
    "<code>mean, std = log_income.mean(), log_income.std()</code>\n",
    "\n",
    "Make a norm object\n",
    "\n",
    "<code>from scipy.stats import norm\n",
    "    dist = norm(mean, std)</code>\n",
    "\n",
    "<code>dist</code> is a <code>scipy.stats.norm</code> object with the same mean and standard deviation as the data. It provides <code>.cdf()</code>, which evaluates the normal cumulative distribution function.\n",
    "\n",
    "Be careful with capitalization: <code>Cdf()</code>, with an uppercase <code>C</code>, creates <code>Cdf</code> objects. <code>dist.cdf()</code>, with a lowercase <code>c</code> , evaluates the normal cumulative distribution function."
   ]
  },
  {
   "cell_type": "markdown",
   "metadata": {},
   "source": [
    "<li>Evaluate the normal cumulative distribution function using <code>dist.cdf</code>.\n",
    "<li>Use the <code>Cdf()</code> function to compute the CDF of <code>log_income</code>.\n",
    "<li>Plot the result."
   ]
  },
  {
   "cell_type": "code",
   "execution_count": null,
   "metadata": {},
   "outputs": [],
   "source": [
    "# Evaluate the model CDF\n",
    "xs = np.linspace(2, 5.5)\n",
    "ys = ____\n",
    "\n",
    "# Plot the model CDF\n",
    "plt.clf()\n",
    "plt.plot(xs, ys, color='gray')\n",
    "\n",
    "# Create and plot the Cdf of log_income\n",
    "____\n",
    "    \n",
    "# Label the axes\n",
    "plt.xlabel('log10 of realinc')\n",
    "plt.ylabel('CDF')\n",
    "plt.show()"
   ]
  },
  {
   "cell_type": "markdown",
   "metadata": {},
   "source": [
    "Good job. The lognormal model is a pretty good fit for the data, but clearly not a perfect match. That's what real data is like; sometimes it doesn't fit the model."
   ]
  },
  {
   "cell_type": "markdown",
   "metadata": {},
   "source": [
    "## Comparing PDFs\n",
    "\n",
    "In the previous exercise, we used CDFs to see if the distribution of income is lognormal. We can make the same comparison using a PDF and KDE. That's what you'll do in this exercise!\n",
    "\n",
    "As before, the norm object dist is available in your workspace:\n",
    "\n",
    "<code>from scipy.stats import norm\n",
    "dist = norm(mean, std)</code>\n",
    "\n",
    "Just as all norm objects have a .cdf() method, they also have a .pdf() method.\n",
    "\n",
    "To create a KDE plot, you can use Seaborn's kdeplot() function."
   ]
  },
  {
   "cell_type": "markdown",
   "metadata": {},
   "source": [
    "<li>Evaluate the normal PDF using <code>dist</code>, which is a <code>norm</code> object with the same mean and standard deviation as the data.\n",
    "<li>Make a KDE plot of the logarithms of the incomes, using <code>log_income</code>, which is a Series object."
   ]
  },
  {
   "cell_type": "code",
   "execution_count": null,
   "metadata": {},
   "outputs": [],
   "source": [
    "# Evaluate the normal PDF\n",
    "xs = np.linspace(2, 5.5)\n",
    "ys = \n",
    "\n",
    "# Plot the model PDF\n",
    "plt.clf()\n",
    "plt.plot(xs, ys, color='gray')\n",
    "\n",
    "# Plot the data KDE\n",
    "\n",
    "\n",
    "# Label the axes\n",
    "plt.xlabel('log10 of realinc')\n",
    "plt.ylabel('PDF')\n",
    "plt.show()"
   ]
  },
  {
   "cell_type": "markdown",
   "metadata": {},
   "source": [
    "We've seen several ways to vizualize and compare distributions: PMFs, CDFs, and KDE plots. In the next presentation we'll explore relationships between variables, starting with heights and weights from a large survey of adults in the U.S."
   ]
  }
 ],
 "metadata": {
  "kernelspec": {
   "display_name": "Python 3 (ipykernel)",
   "language": "python",
   "name": "python3"
  },
  "language_info": {
   "codemirror_mode": {
    "name": "ipython",
    "version": 3
   },
   "file_extension": ".py",
   "mimetype": "text/x-python",
   "name": "python",
   "nbconvert_exporter": "python",
   "pygments_lexer": "ipython3",
   "version": "3.9.13"
  }
 },
 "nbformat": 4,
 "nbformat_minor": 4
}
